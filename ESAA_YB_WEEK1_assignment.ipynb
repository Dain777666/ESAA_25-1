{
  "nbformat": 4,
  "nbformat_minor": 5,
  "metadata": {
    "colab": {
      "provenance": [],
      "include_colab_link": true
    },
    "language_info": {
      "name": "python"
    },
    "kernelspec": {
      "name": "python3",
      "display_name": "Python 3"
    }
  },
  "cells": [
    {
      "cell_type": "markdown",
      "metadata": {
        "id": "view-in-github",
        "colab_type": "text"
      },
      "source": [
        "<a href=\"https://colab.research.google.com/github/Dain777666/ESAA_25-1/blob/main/ESAA_YB_WEEK1_assignment.ipynb\" target=\"_parent\"><img src=\"https://colab.research.google.com/assets/colab-badge.svg\" alt=\"Open In Colab\"/></a>"
      ]
    },
    {
      "cell_type": "markdown",
      "metadata": {
        "id": "bf79c78b"
      },
      "source": [
        "# Numpy exercises\n",
        "\n",
        "This is a collection of exercises that have been collected in the numpy mailing list, on stack overflow\n",
        "and in the numpy documentation. The goal of this collection is to offer a quick reference for both old\n",
        "and new users but also to provide a set of exercises for those who teach.\n",
        "\n",
        "\n",
        "If you find an error or think you've a better way to solve some of them, feel\n",
        "free to open an issue at <https://github.com/rougier/numpy-100>."
      ],
      "id": "bf79c78b"
    },
    {
      "cell_type": "markdown",
      "metadata": {
        "id": "8536e059"
      },
      "source": [
        "File automatically generated. See the documentation to update questions/answers/hints programmatically."
      ],
      "id": "8536e059"
    },
    {
      "cell_type": "markdown",
      "metadata": {
        "id": "017db353"
      },
      "source": [
        "#### 1. Import the numpy package under the name `np` (★☆☆)"
      ],
      "id": "017db353"
    },
    {
      "cell_type": "code",
      "metadata": {
        "id": "68182a76"
      },
      "source": [
        "import numpy as np"
      ],
      "id": "68182a76",
      "execution_count": 2,
      "outputs": []
    },
    {
      "cell_type": "markdown",
      "metadata": {
        "id": "46950f4f"
      },
      "source": [
        "#### 2. Print the numpy version and the configuration (★☆☆)"
      ],
      "id": "46950f4f"
    },
    {
      "cell_type": "code",
      "source": [
        "#configuration: NumPy가 사용하는 라이브러리와 최적화 정보를 출력함\n",
        "\n",
        "print(\"NumPy Version:\", np.__version__)\n",
        "np.show_config()"
      ],
      "metadata": {
        "id": "T2NNljuPNL8z",
        "colab": {
          "base_uri": "https://localhost:8080/"
        },
        "outputId": "217bd5a7-ce52-4ecf-97de-c03c984906fd"
      },
      "id": "T2NNljuPNL8z",
      "execution_count": 7,
      "outputs": [
        {
          "output_type": "stream",
          "name": "stdout",
          "text": [
            "NumPy Version: 1.26.4\n",
            "Build Dependencies:\n",
            "  blas:\n",
            "    detection method: pkgconfig\n",
            "    found: true\n",
            "    include directory: /usr/local/include\n",
            "    lib directory: /usr/local/lib\n",
            "    name: openblas64\n",
            "    openblas configuration: USE_64BITINT=1 DYNAMIC_ARCH=1 DYNAMIC_OLDER= NO_CBLAS=\n",
            "      NO_LAPACK= NO_LAPACKE= NO_AFFINITY=1 USE_OPENMP= HASWELL MAX_THREADS=2\n",
            "    pc file directory: /usr/local/lib/pkgconfig\n",
            "    version: 0.3.23.dev\n",
            "  lapack:\n",
            "    detection method: internal\n",
            "    found: true\n",
            "    include directory: unknown\n",
            "    lib directory: unknown\n",
            "    name: dep140213194937296\n",
            "    openblas configuration: unknown\n",
            "    pc file directory: unknown\n",
            "    version: 1.26.4\n",
            "Compilers:\n",
            "  c:\n",
            "    args: -fno-strict-aliasing\n",
            "    commands: cc\n",
            "    linker: ld.bfd\n",
            "    linker args: -Wl,--strip-debug, -fno-strict-aliasing\n",
            "    name: gcc\n",
            "    version: 10.2.1\n",
            "  c++:\n",
            "    commands: c++\n",
            "    linker: ld.bfd\n",
            "    linker args: -Wl,--strip-debug\n",
            "    name: gcc\n",
            "    version: 10.2.1\n",
            "  cython:\n",
            "    commands: cython\n",
            "    linker: cython\n",
            "    name: cython\n",
            "    version: 3.0.8\n",
            "Machine Information:\n",
            "  build:\n",
            "    cpu: x86_64\n",
            "    endian: little\n",
            "    family: x86_64\n",
            "    system: linux\n",
            "  host:\n",
            "    cpu: x86_64\n",
            "    endian: little\n",
            "    family: x86_64\n",
            "    system: linux\n",
            "Python Information:\n",
            "  path: /opt/python/cp311-cp311/bin/python\n",
            "  version: '3.11'\n",
            "SIMD Extensions:\n",
            "  baseline:\n",
            "  - SSE\n",
            "  - SSE2\n",
            "  - SSE3\n",
            "  found:\n",
            "  - SSSE3\n",
            "  - SSE41\n",
            "  - POPCNT\n",
            "  - SSE42\n",
            "  - AVX\n",
            "  - F16C\n",
            "  - FMA3\n",
            "  - AVX2\n",
            "  not found:\n",
            "  - AVX512F\n",
            "  - AVX512CD\n",
            "  - AVX512_KNL\n",
            "  - AVX512_KNM\n",
            "  - AVX512_SKX\n",
            "  - AVX512_CLX\n",
            "  - AVX512_CNL\n",
            "  - AVX512_ICL\n",
            "\n"
          ]
        }
      ]
    },
    {
      "cell_type": "markdown",
      "metadata": {
        "id": "e3c20b3d"
      },
      "source": [
        "#### 3. Create a null vector of size 10 (★☆☆)"
      ],
      "id": "e3c20b3d"
    },
    {
      "cell_type": "code",
      "metadata": {
        "id": "8a758bcf",
        "colab": {
          "base_uri": "https://localhost:8080/"
        },
        "outputId": "ece1c711-712f-4487-93d8-e184c48c5ba5"
      },
      "source": [
        "#null vector: 모든 요소가 0으로 채워진 벡터\n",
        "\n",
        "null_vector = np.zeros(10) #np.zeros(): 모든 요소가 0인 배열을 생성하는 넘파이 함수\n",
        "print(null_vector)"
      ],
      "id": "8a758bcf",
      "execution_count": 8,
      "outputs": [
        {
          "output_type": "stream",
          "name": "stdout",
          "text": [
            "[0. 0. 0. 0. 0. 0. 0. 0. 0. 0.]\n"
          ]
        }
      ]
    },
    {
      "cell_type": "markdown",
      "metadata": {
        "id": "b15a879f"
      },
      "source": [
        "#### 4. How to find the memory size of any array (★☆☆)"
      ],
      "id": "b15a879f"
    },
    {
      "cell_type": "code",
      "metadata": {
        "id": "1cc3cbc5",
        "colab": {
          "base_uri": "https://localhost:8080/"
        },
        "outputId": "acf69497-54c1-4ab5-ad7b-5b2ca15bfb40"
      },
      "source": [
        "arr = np.zeros((2,4)) #float64 element: 8bytes, so 8*8=64 bytes.\n",
        "print(arr.nbytes)\n",
        "\n",
        "##manual calculation##\n",
        "memory_size = arr.itemsize * arr.size\n",
        "#.itemsize: default is 8bytes for folat64\n",
        "#.size: total number of elements\n",
        "print(memory_size)"
      ],
      "id": "1cc3cbc5",
      "execution_count": 11,
      "outputs": [
        {
          "output_type": "stream",
          "name": "stdout",
          "text": [
            "64\n",
            "64\n"
          ]
        }
      ]
    },
    {
      "cell_type": "markdown",
      "metadata": {
        "id": "0b16cd77"
      },
      "source": [
        "#### 5. Create a null vector of size 10 but the fifth value which is 1 (★☆☆)"
      ],
      "id": "0b16cd77"
    },
    {
      "cell_type": "code",
      "metadata": {
        "id": "4d9b5975",
        "colab": {
          "base_uri": "https://localhost:8080/"
        },
        "outputId": "15b32d7f-8396-42ab-9419-3211229f72e5"
      },
      "source": [
        "null_vector = np.zeros(10)\n",
        "null_vector[4] = 1\n",
        "\n",
        "print(null_vector)"
      ],
      "id": "4d9b5975",
      "execution_count": 12,
      "outputs": [
        {
          "output_type": "stream",
          "name": "stdout",
          "text": [
            "[0. 0. 0. 0. 1. 0. 0. 0. 0. 0.]\n"
          ]
        }
      ]
    },
    {
      "cell_type": "markdown",
      "metadata": {
        "id": "782d4c77"
      },
      "source": [
        "#### 6. Create a vector with values ranging from 10 to 49 (★☆☆)"
      ],
      "id": "782d4c77"
    },
    {
      "cell_type": "code",
      "metadata": {
        "id": "5dbe1a08",
        "colab": {
          "base_uri": "https://localhost:8080/"
        },
        "outputId": "8f9937ee-a000-48a3-8c13-ef52d8ba4f5e"
      },
      "source": [
        "vector = np.arange(10,50)\n",
        "print(vector)"
      ],
      "id": "5dbe1a08",
      "execution_count": 13,
      "outputs": [
        {
          "output_type": "stream",
          "name": "stdout",
          "text": [
            "[10 11 12 13 14 15 16 17 18 19 20 21 22 23 24 25 26 27 28 29 30 31 32 33\n",
            " 34 35 36 37 38 39 40 41 42 43 44 45 46 47 48 49]\n"
          ]
        }
      ]
    },
    {
      "cell_type": "markdown",
      "metadata": {
        "id": "48d48f01"
      },
      "source": [
        "#### 7. Reverse a vector (first element becomes last) (★☆☆)"
      ],
      "id": "48d48f01"
    },
    {
      "cell_type": "code",
      "metadata": {
        "id": "3ed233e7",
        "colab": {
          "base_uri": "https://localhost:8080/"
        },
        "outputId": "ef7ccafc-d834-4603-b6a8-610c9f10fc0f"
      },
      "source": [
        "reversed_vector = vector[::-1] #전체 배열을 선택하여, 역순으로 출력\n",
        "print(reversed_vector)"
      ],
      "id": "3ed233e7",
      "execution_count": 14,
      "outputs": [
        {
          "output_type": "stream",
          "name": "stdout",
          "text": [
            "[49 48 47 46 45 44 43 42 41 40 39 38 37 36 35 34 33 32 31 30 29 28 27 26\n",
            " 25 24 23 22 21 20 19 18 17 16 15 14 13 12 11 10]\n"
          ]
        }
      ]
    },
    {
      "cell_type": "markdown",
      "metadata": {
        "id": "4fa39382"
      },
      "source": [
        "#### 8. Create a 3x3 matrix with values ranging from 0 to 8 (★☆☆)"
      ],
      "id": "4fa39382"
    },
    {
      "cell_type": "code",
      "metadata": {
        "id": "c97757ec",
        "colab": {
          "base_uri": "https://localhost:8080/"
        },
        "outputId": "742a81db-0375-4db3-9c9d-7eb49867f834"
      },
      "source": [
        "matrix_3x3 = np.arange(9).reshape(3,3)\n",
        "print(matrix_3x3)"
      ],
      "id": "c97757ec",
      "execution_count": 15,
      "outputs": [
        {
          "output_type": "stream",
          "name": "stdout",
          "text": [
            "[[0 1 2]\n",
            " [3 4 5]\n",
            " [6 7 8]]\n"
          ]
        }
      ]
    },
    {
      "cell_type": "markdown",
      "metadata": {
        "id": "da64551a"
      },
      "source": [
        "#### 9. Find indices of non-zero elements from [1,2,0,0,4,0] (★☆☆)"
      ],
      "id": "da64551a"
    },
    {
      "cell_type": "code",
      "metadata": {
        "id": "327f7adb",
        "colab": {
          "base_uri": "https://localhost:8080/"
        },
        "outputId": "895e55a2-8a97-4d7d-a593-875b2a8f5a83"
      },
      "source": [
        "array = np.array([1,2,0,0,4,0])\n",
        "nonzero_indices = np.nonzero(array) #np.nonzero(): 넘파이 배열에서 0이 아닌 값의 인덱스를 반환\n",
        "print(nonzero_indices)"
      ],
      "id": "327f7adb",
      "execution_count": 17,
      "outputs": [
        {
          "output_type": "stream",
          "name": "stdout",
          "text": [
            "(array([0, 1, 4]),)\n"
          ]
        }
      ]
    },
    {
      "cell_type": "markdown",
      "metadata": {
        "id": "f89d9c9e"
      },
      "source": [
        "#### 10. Create a 3x3 identity matrix (★☆☆)\n",
        "Hint : identity & eye, try to use 'help' to learn how to use two functions of numpy"
      ],
      "id": "f89d9c9e"
    },
    {
      "cell_type": "code",
      "source": [
        "identity_matrix = np.eye(3)\n",
        "#identity matrix(단위행렬): 주대각선이 1이고 나머지는 0으로 채워진 정사각 행렬\n",
        "#np.eye(): 넘파이에서 단위행렬을 생성하는 함수\n",
        "print(identity_matrix)\n"
      ],
      "metadata": {
        "id": "fQFB1sJ8Q8cj",
        "colab": {
          "base_uri": "https://localhost:8080/"
        },
        "outputId": "fd743697-4df7-4965-92d5-1270d054c7c8"
      },
      "id": "fQFB1sJ8Q8cj",
      "execution_count": 3,
      "outputs": [
        {
          "output_type": "stream",
          "name": "stdout",
          "text": [
            "[[1. 0. 0.]\n",
            " [0. 1. 0.]\n",
            " [0. 0. 1.]]\n"
          ]
        }
      ]
    },
    {
      "cell_type": "markdown",
      "metadata": {
        "id": "7e44c6fa"
      },
      "source": [
        "#### 11. Create a 3x3x3 array with random values (★☆☆)\n",
        "Hint : numpy.random.random"
      ],
      "id": "7e44c6fa"
    },
    {
      "cell_type": "code",
      "metadata": {
        "id": "1cb3dddf",
        "colab": {
          "base_uri": "https://localhost:8080/"
        },
        "outputId": "f2032855-2f02-4d89-a107-d7ec8ec4264b"
      },
      "source": [
        "random_array = np.random.random((3,3,3))\n",
        "#np.random.random(): 0과 1 사이의 난수를 생성하는 함수\n",
        "print(random_array)"
      ],
      "id": "1cb3dddf",
      "execution_count": 4,
      "outputs": [
        {
          "output_type": "stream",
          "name": "stdout",
          "text": [
            "[[[0.69438894 0.25923208 0.87426058]\n",
            "  [0.02694437 0.45175947 0.71169144]\n",
            "  [0.90368483 0.47005562 0.70656085]]\n",
            "\n",
            " [[0.33523241 0.9429301  0.29225124]\n",
            "  [0.60435712 0.64572351 0.04037888]\n",
            "  [0.02331778 0.44692512 0.32361659]]\n",
            "\n",
            " [[0.28193939 0.37062546 0.4185144 ]\n",
            "  [0.53160101 0.79471755 0.11404323]\n",
            "  [0.16733307 0.07191947 0.21332796]]]\n"
          ]
        }
      ]
    },
    {
      "cell_type": "markdown",
      "metadata": {
        "id": "13c5928c"
      },
      "source": [
        "#### 12. Create a 10x10 array with random values and find the **min**imum and **max**imum values (★☆☆)"
      ],
      "id": "13c5928c"
    },
    {
      "cell_type": "code",
      "metadata": {
        "id": "911c9b93",
        "colab": {
          "base_uri": "https://localhost:8080/"
        },
        "outputId": "87dc8803-ff5d-4ce7-9eac-daa796dc3496"
      },
      "source": [
        "random_10x10 = np.random.rand(10,10)\n",
        "#np.random.rand(): 0과 1 사이의 난수를 생성하는 함수\n",
        "##np.random.random vs np.random.rand\n",
        "#기능은 동일하지만, rand()는 개별 인자, random()은 튜플로 크기를 전달해야 한다는 차이가 있음.\n",
        "min_value = np.min(random_10x10)\n",
        "max_value = np.max(random_10x10)\n",
        "\n",
        "print(\"Random 10x10 Array:\\n\", random_10x10)\n",
        "print(\"\\nMinimum Value:\", min_value)\n",
        "print(\"\\nMaximum Value:\", max_value)"
      ],
      "id": "911c9b93",
      "execution_count": 5,
      "outputs": [
        {
          "output_type": "stream",
          "name": "stdout",
          "text": [
            "Random 10x10 Array:\n",
            " [[0.34682002 0.52487011 0.61030355 0.7885605  0.52525845 0.34847056\n",
            "  0.05600011 0.22123678 0.10719349 0.06595279]\n",
            " [0.02302701 0.60190216 0.34196049 0.55970717 0.34696493 0.13471343\n",
            "  0.71018626 0.28711083 0.08497705 0.44279531]\n",
            " [0.01663722 0.05373221 0.72375807 0.33623847 0.82825612 0.28848079\n",
            "  0.50105456 0.74577302 0.43456066 0.68885432]\n",
            " [0.11391674 0.76646894 0.16799408 0.5893772  0.61301828 0.11535826\n",
            "  0.40305197 0.22704745 0.60754675 0.95616869]\n",
            " [0.00324101 0.5422877  0.42829925 0.59070103 0.31949108 0.15905434\n",
            "  0.3777341  0.27432381 0.45686556 0.53825928]\n",
            " [0.16786129 0.61841075 0.75839817 0.26600596 0.03690343 0.74122763\n",
            "  0.92138438 0.03836857 0.0506344  0.64461034]\n",
            " [0.43606772 0.65781265 0.44676054 0.52778047 0.35530812 0.49303769\n",
            "  0.75614767 0.05025854 0.88770864 0.62091111]\n",
            " [0.41026668 0.64676439 0.84761999 0.17785389 0.52838741 0.28852748\n",
            "  0.52168306 0.42148362 0.13416619 0.43911928]\n",
            " [0.11852192 0.17362351 0.92480505 0.74393149 0.55801688 0.91600848\n",
            "  0.50786791 0.94199383 0.45754986 0.86242775]\n",
            " [0.21103216 0.88363633 0.91539392 0.79398847 0.55877078 0.33026384\n",
            "  0.04579329 0.30889606 0.58950012 0.15978521]]\n",
            "\n",
            "Minimum Value: 0.003241005088743587\n",
            "\n",
            "Maximum Value: 0.9561686919573448\n"
          ]
        }
      ]
    },
    {
      "cell_type": "markdown",
      "metadata": {
        "id": "3fa2e461"
      },
      "source": [
        "#### 13. Create a random vector of size 30 and find the **mean** value (★☆☆)"
      ],
      "id": "3fa2e461"
    },
    {
      "cell_type": "code",
      "metadata": {
        "id": "323eb38a",
        "colab": {
          "base_uri": "https://localhost:8080/"
        },
        "outputId": "c0c5a287-94cd-4b27-8b08-8c3352e3afd5"
      },
      "source": [
        "random_vector = np.random.rand(30)\n",
        "mean_value = np.mean(random_vector)\n",
        "\n",
        "print(\"Random Vector:\\n\", random_vector)\n",
        "print(\"\\nMean Value:\", mean_value)"
      ],
      "id": "323eb38a",
      "execution_count": 6,
      "outputs": [
        {
          "output_type": "stream",
          "name": "stdout",
          "text": [
            "Random Vector:\n",
            " [0.16254863 0.54354346 0.19522137 0.12523193 0.41208292 0.02613537\n",
            " 0.7060567  0.97365616 0.23638198 0.00568848 0.95738164 0.0495831\n",
            " 0.46951016 0.43352311 0.59843973 0.08734385 0.93695879 0.45454878\n",
            " 0.8603889  0.05271368 0.88065636 0.18337718 0.83849427 0.24810673\n",
            " 0.50042133 0.86297813 0.58972493 0.37493796 0.57441878 0.89362556]\n",
            "\n",
            "Mean Value: 0.47445599882181017\n"
          ]
        }
      ]
    },
    {
      "cell_type": "markdown",
      "metadata": {
        "id": "73f7a549"
      },
      "source": [
        "#### 14. Create a 2d array with 1 on the border and 0 inside (★☆☆)"
      ],
      "id": "73f7a549"
    },
    {
      "cell_type": "code",
      "source": [
        "rows, cols = 5, 5\n",
        "array = np.zeros((rows, cols), dtype=int) #정수형 지정해주기\n",
        "array[0,:] = 1 #top border\n",
        "array[-1, :] = 1 #bottom border\n",
        "array[:, 0] = 1 #left border\n",
        "array[:, -1] = 1 #right border\n",
        "\n",
        "print(array)"
      ],
      "metadata": {
        "id": "NF8T5OETM32i",
        "colab": {
          "base_uri": "https://localhost:8080/"
        },
        "outputId": "ac099337-828c-4168-c613-ac5d04be6df8"
      },
      "id": "NF8T5OETM32i",
      "execution_count": 7,
      "outputs": [
        {
          "output_type": "stream",
          "name": "stdout",
          "text": [
            "[[1 1 1 1 1]\n",
            " [1 0 0 0 1]\n",
            " [1 0 0 0 1]\n",
            " [1 0 0 0 1]\n",
            " [1 1 1 1 1]]\n"
          ]
        }
      ]
    },
    {
      "cell_type": "markdown",
      "metadata": {
        "id": "d6ad1a9f"
      },
      "source": [
        "#### 15. What is the result of the following expression? (★☆☆)\n",
        "```python\n",
        "0 * np.nan\n",
        "np.nan == np.nan\n",
        "np.inf > np.nan\n",
        "np.nan - np.nan\n",
        "np.nan in set([np.nan])\n",
        "0.3 == 3 * 0.1\n",
        "```"
      ],
      "id": "d6ad1a9f"
    },
    {
      "cell_type": "markdown",
      "source": [
        "np.nan은 \"Not a Number\" (숫자가 아님) 을 의미하는 특별한 값이다. NumPy에서 결측값(missing value)이나 정의되지 않은 연산의 결과를 나타낼 때 사용된다.\n",
        "\n",
        "\n",
        "✅np.nan의 주요 특징\n",
        "*   np.nan은 자신과 같지 않다. (np.nan != np.nan)\n",
        "*   np.nan이 포함된 연산은 결과도 np.nan이 된다.\n",
        "*   np.nan이 들어간 배열에서 비교 연산을 하면 False가 나온다.\n",
        "*   평균, 합을 구할 때 nan이 있으면 nan이 나오므로, np.nanmean(), np.nansum()을 사용한다.\n",
        "\n",
        "\n",
        "\n"
      ],
      "metadata": {
        "id": "IIFL3xPTygBk"
      },
      "id": "IIFL3xPTygBk"
    },
    {
      "cell_type": "markdown",
      "source": [
        "< 0.3 == 3 * 0.1 결과가 False인 이유 >\n",
        "\n",
        "✅ 이유: 부동소수점 오차(Floating-point precision error) 때문이다. 3 * 0.1을 실제로 계산하면 0.30000000000000004 가 되어 0.3과 같지 않다.\n"
      ],
      "metadata": {
        "id": "6OGzv4Z_0Pbj"
      },
      "id": "6OGzv4Z_0Pbj"
    },
    {
      "cell_type": "markdown",
      "source": [
        "nan, False, False, nan, True, False"
      ],
      "metadata": {
        "id": "D1R9AmCGQrgn"
      },
      "id": "D1R9AmCGQrgn"
    },
    {
      "cell_type": "markdown",
      "metadata": {
        "id": "e3a7ba7f"
      },
      "source": [
        "#### 16. Create a 5x5 matrix with values 1,2,3,4 just below the **diag**onal (★☆☆)"
      ],
      "id": "e3a7ba7f"
    },
    {
      "cell_type": "code",
      "metadata": {
        "id": "01d8e257",
        "colab": {
          "base_uri": "https://localhost:8080/"
        },
        "outputId": "7d25386f-d8e2-4b6f-e426-5a6405ac764f"
      },
      "source": [
        "matrix = np.zeros((5,5), dtype=int)\n",
        "matrix += np.diag([1,2,3,4], k=-1) #대각선 아래(k=-1)\n",
        "print(matrix)"
      ],
      "id": "01d8e257",
      "execution_count": 8,
      "outputs": [
        {
          "output_type": "stream",
          "name": "stdout",
          "text": [
            "[[0 0 0 0 0]\n",
            " [1 0 0 0 0]\n",
            " [0 2 0 0 0]\n",
            " [0 0 3 0 0]\n",
            " [0 0 0 4 0]]\n"
          ]
        }
      ]
    },
    {
      "cell_type": "markdown",
      "metadata": {
        "id": "6d17ab5d"
      },
      "source": [
        "#### 17. Create a 8x8 matrix and fill it with a checkerboard pattern (★☆☆)"
      ],
      "id": "6d17ab5d"
    },
    {
      "cell_type": "code",
      "metadata": {
        "id": "841373cd",
        "colab": {
          "base_uri": "https://localhost:8080/"
        },
        "outputId": "01ba668a-4b39-4639-b260-0f737bb0ab06"
      },
      "source": [
        "checkerboard = np.zeros((8,8), dtype=int)\n",
        "checkerboard[1::2, ::2] = 1 #홀수 행의 짝수 열에 1을 배치\n",
        "checkerboard[::2, 1::2] = 1 #짝수 행의 홀수 열에 1을 배치\n",
        "print(checkerboard)"
      ],
      "id": "841373cd",
      "execution_count": 9,
      "outputs": [
        {
          "output_type": "stream",
          "name": "stdout",
          "text": [
            "[[0 1 0 1 0 1 0 1]\n",
            " [1 0 1 0 1 0 1 0]\n",
            " [0 1 0 1 0 1 0 1]\n",
            " [1 0 1 0 1 0 1 0]\n",
            " [0 1 0 1 0 1 0 1]\n",
            " [1 0 1 0 1 0 1 0]\n",
            " [0 1 0 1 0 1 0 1]\n",
            " [1 0 1 0 1 0 1 0]]\n"
          ]
        }
      ]
    },
    {
      "cell_type": "markdown",
      "source": [
        "✅**기본적인 슬라이싱 문법**\n",
        "\n",
        "array[start:end:step, start:end:step]\n",
        "\n",
        "\n",
        "*   start: 시작 인덱스\n",
        "*   end: 종료 인덱스\n",
        "*   step: 간격(생략하면 기본값 1)\n",
        "\n",
        "\n",
        "\n",
        "\n",
        "\n",
        "\n"
      ],
      "metadata": {
        "id": "g2V4Q5pr3GUm"
      },
      "id": "g2V4Q5pr3GUm"
    },
    {
      "cell_type": "markdown",
      "metadata": {
        "id": "8837119b"
      },
      "source": [
        "#### 18. Consider a (6,7,8) shape array, what is the index (x,y,z) of the 100th element? (★☆☆)\n",
        "Hint : use 'numpy.unravel_index(value, (x, y, z))"
      ],
      "id": "8837119b"
    },
    {
      "cell_type": "code",
      "metadata": {
        "id": "2c0d16f1",
        "colab": {
          "base_uri": "https://localhost:8080/"
        },
        "outputId": "bed10514-7310-4361-a13c-e93cc0deba3a"
      },
      "source": [
        "shape = (6,7,8)\n",
        "index = np.unravel_index(99, shape)\n",
        "#np.unravel_index(): 1차원 인덱스를 다차원 인덱스로 변환하는 함수\n",
        "print(index)"
      ],
      "id": "2c0d16f1",
      "execution_count": 10,
      "outputs": [
        {
          "output_type": "stream",
          "name": "stdout",
          "text": [
            "(1, 5, 3)\n"
          ]
        }
      ]
    },
    {
      "cell_type": "markdown",
      "source": [
        "⭐계산과정\n",
        "\n",
        "(1) z 인덱스 찾기 (가장 안쪽 차원)\n",
        "\n",
        " 99 % 8 = 3 → z = 3\n",
        "\n",
        "(z는 8개의 요소마다 한 바퀴 도니까 나머지가 z 위치)\n",
        "\n",
        "(2) y 인덱스 찾기 (중간 차원)\n",
        "\n",
        "(99 // 8) % 7 = (12) % 7 = 5 → y = 5\n",
        "(y는 7개의 z 그룹마다 한 바퀴)\n",
        "\n",
        "(3) x 인덱스 찾기 (가장 바깥 차원)\n",
        "\n",
        "99 // (8 × 7) = 1 → x = 1\n",
        "(x는 8×7개의 요소마다 한 바퀴 도니까 1회 반복)\n"
      ],
      "metadata": {
        "id": "LFwP1Ixu5j8m"
      },
      "id": "LFwP1Ixu5j8m"
    },
    {
      "cell_type": "markdown",
      "metadata": {
        "id": "391791e0"
      },
      "source": [
        "#### 19. Normalize a 5x5 random matrix (★☆☆)\n",
        "Hint : $Z = \\frac{X - \\overline{X}}{S}$"
      ],
      "id": "391791e0"
    },
    {
      "cell_type": "code",
      "metadata": {
        "id": "f6533d39",
        "colab": {
          "base_uri": "https://localhost:8080/"
        },
        "outputId": "f889e866-240a-4940-cade-edebbe285de2"
      },
      "source": [
        "X = np.random.rand(5,5)\n",
        "mean_X = np.mean(X)\n",
        "std_X = np.std(X)\n",
        "Z = (X - mean_X) / std_X\n",
        "\n",
        "print(\"Original Matrix:\\n\", X)\n",
        "print(\"\\nMean:\", mean_X)\n",
        "print(\"Standard Deviation:\", std_X)\n",
        "print(\"\\nNormalized Matrix:\\n\", Z)"
      ],
      "id": "f6533d39",
      "execution_count": 11,
      "outputs": [
        {
          "output_type": "stream",
          "name": "stdout",
          "text": [
            "Original Matrix:\n",
            " [[0.01938683 0.71235745 0.06049199 0.11410954 0.54725991]\n",
            " [0.42253014 0.55430458 0.6832069  0.81839294 0.84049041]\n",
            " [0.87217701 0.8218894  0.5851703  0.09719163 0.80290092]\n",
            " [0.62793773 0.90898765 0.45356125 0.8467222  0.54129726]\n",
            " [0.3835408  0.35536065 0.31011018 0.862607   0.27895306]]\n",
            "\n",
            "Mean: 0.5408375096346241\n",
            "Standard Deviation: 0.27571854031881354\n",
            "\n",
            "Normalized Matrix:\n",
            " [[-1.89124270e+00  6.22083460e-01 -1.74215894e+00 -1.54769414e+00\n",
            "   2.32933091e-02]\n",
            " [-4.29087461e-01  4.88435315e-02  5.16357707e-01  1.00666218e+00\n",
            "   1.08680722e+00]\n",
            " [ 1.20173094e+00  1.01934347e+00  1.60790031e-01 -1.60905349e+00\n",
            "   9.50474395e-01]\n",
            " [ 3.15902654e-01  1.33523898e+00 -3.16541135e-01  1.10940922e+00\n",
            "   1.66747892e-03]\n",
            " [-5.70497395e-01 -6.72703613e-01 -8.36821972e-01  1.16702158e+00\n",
            "  -9.49825322e-01]]\n"
          ]
        }
      ]
    },
    {
      "cell_type": "markdown",
      "metadata": {
        "id": "1e74d39e"
      },
      "source": [
        "#### 20. Create a custom dtype that describes a color as four unsigned bytes (RGBA) (★☆☆)\n",
        "Hint : modify the code below\n",
        "```python\n",
        "numpy.dtype([(value, numpy.ubyte), … , (value, numpy.ubyte)])\n",
        "```"
      ],
      "id": "1e74d39e"
    },
    {
      "cell_type": "code",
      "metadata": {
        "id": "3f639d33",
        "colab": {
          "base_uri": "https://localhost:8080/"
        },
        "outputId": "39db6211-7fb0-49c9-ec7d-ae46f86e21c7"
      },
      "source": [
        "#RGBA 생상을 저장할 사용자 정의 dtype 생성\n",
        "rgba_dtype = np.dtype([\n",
        "    ('R', np.ubyte),\n",
        "    ('G', np.ubyte),\n",
        "    ('B', np.ubyte),\n",
        "    ('A', np.ubyte)\n",
        "])\n",
        "\n",
        "#위에서 만든 dtype을 사용해 색상 배열 생성\n",
        "colors = np.array([\n",
        "    (255, 0, 0, 255),   # 빨강 (Red)\n",
        "    (0, 255, 0, 255),   # 초록 (Green)\n",
        "    (0, 0, 255, 255),   # 파랑 (Blue)\n",
        "    (255, 255, 0, 255), # 노랑 (Yellow)\n",
        "    (0, 0, 0, 128)      # 반투명 검정 (Semi-transparent Black)\n",
        "], dtype=rgba_dtype)\n",
        "\n",
        "# 3️⃣ 배열 출력\n",
        "print(colors)\n",
        "\n",
        "# 4️⃣ 특정 색상의 값 출력\n",
        "print(\"\\n첫 번째 색상 (Red):\", colors[0])\n",
        "print(\"첫 번째 색상의 R 값:\", colors[0]['R'])\n",
        "print(\"마지막 색상의 Alpha 값:\", colors[-1]['A'])"
      ],
      "id": "3f639d33",
      "execution_count": 12,
      "outputs": [
        {
          "output_type": "stream",
          "name": "stdout",
          "text": [
            "[(255,   0,   0, 255) (  0, 255,   0, 255) (  0,   0, 255, 255)\n",
            " (255, 255,   0, 255) (  0,   0,   0, 128)]\n",
            "\n",
            "첫 번째 색상 (Red): (255, 0, 0, 255)\n",
            "첫 번째 색상의 R 값: 255\n",
            "마지막 색상의 Alpha 값: 128\n"
          ]
        }
      ]
    },
    {
      "cell_type": "markdown",
      "metadata": {
        "id": "78250c14"
      },
      "source": [
        "#### 21. Multiply a 5x3 matrix by a 3x2 matrix (real matrix product) (★☆☆)"
      ],
      "id": "78250c14"
    },
    {
      "cell_type": "code",
      "source": [],
      "metadata": {
        "id": "TtShofRntKKt"
      },
      "id": "TtShofRntKKt",
      "execution_count": null,
      "outputs": []
    },
    {
      "cell_type": "code",
      "metadata": {
        "id": "9fe729cb"
      },
      "source": [],
      "id": "9fe729cb",
      "execution_count": null,
      "outputs": []
    },
    {
      "cell_type": "markdown",
      "metadata": {
        "id": "51898680"
      },
      "source": [
        "#### 22. Given a 1D array, negate all elements which are between 3 and 8, in place. (★☆☆)"
      ],
      "id": "51898680"
    },
    {
      "cell_type": "code",
      "metadata": {
        "id": "51c90f2d"
      },
      "source": [],
      "id": "51c90f2d",
      "execution_count": null,
      "outputs": []
    },
    {
      "cell_type": "markdown",
      "metadata": {
        "id": "89e78048"
      },
      "source": [
        "#### 23. What is the output of the following script? (★☆☆)\n",
        "```python\n",
        "# Author: Jake VanderPlas\n",
        "\n",
        "print(sum(range(5),-1))\n",
        "from numpy import *\n",
        "print(sum(range(5),-1))\n",
        "```"
      ],
      "id": "89e78048"
    },
    {
      "cell_type": "markdown",
      "source": [
        "*   Python Built-in sum Function: The sum of range(5) (which is 0 + 1 + 2 + 3 + 4 = 10) is computed, and then -1 is added to it. The result will be 9\n",
        "*   NumPy's sum Function: NumPy's sum function doesn't treat the second argument as a start value like Python's built-in sum. Instead, it treats it as an axis parameter. Since -1 is not a valid axis for a 1D sequence (the valid axis for a 1D array is 0), NumPy will raise a TypeError\n"
      ],
      "metadata": {
        "id": "anrGLNS4FZMi"
      },
      "id": "anrGLNS4FZMi"
    },
    {
      "cell_type": "markdown",
      "metadata": {
        "id": "ebd10810"
      },
      "source": [
        "#### 24. Consider an integer vector Z, which of these expressions are legal? (★☆☆)\n",
        "```python\n",
        "Z**Z\n",
        "2 << Z >> 2\n",
        "Z <- Z\n",
        "1j*Z\n",
        "Z/1/1\n",
        "Z<Z>Z\n",
        "```"
      ],
      "id": "ebd10810"
    },
    {
      "cell_type": "code",
      "metadata": {
        "id": "6ada209f"
      },
      "source": [],
      "id": "6ada209f",
      "execution_count": null,
      "outputs": []
    },
    {
      "cell_type": "markdown",
      "metadata": {
        "id": "c0e940f8"
      },
      "source": [
        "#### 25. What are the result of the following expressions? (★☆☆)\n",
        "```python\n",
        "np.array(0) / np.array(0)\n",
        "np.array(0) // np.array(0)\n",
        "np.array([np.nan]).astype(int).astype(float)\n",
        "```"
      ],
      "id": "c0e940f8"
    },
    {
      "cell_type": "code",
      "metadata": {
        "id": "820dc7a5"
      },
      "source": [],
      "id": "820dc7a5",
      "execution_count": null,
      "outputs": []
    },
    {
      "cell_type": "markdown",
      "metadata": {
        "id": "f1ae2c2d"
      },
      "source": [
        "#### 26. How to find common values between two arrays? (★☆☆)\n",
        "```python\n",
        "Z1 = np.random.randint(0,10,10)\n",
        "Z2 = np.random.randint(0,10,10)\n",
        "```\n",
        "Hint : use `numpy.random.randint(start, end, size)`"
      ],
      "id": "f1ae2c2d"
    },
    {
      "cell_type": "code",
      "metadata": {
        "id": "6801c73d"
      },
      "source": [],
      "id": "6801c73d",
      "execution_count": null,
      "outputs": []
    },
    {
      "cell_type": "markdown",
      "metadata": {
        "id": "37bc0973"
      },
      "source": [
        "#### 27. Is the following expressions true? (★☆☆)\n",
        "```python\n",
        "np.sqrt(-1) == np.emath.sqrt(-1)\n",
        "```"
      ],
      "id": "37bc0973"
    },
    {
      "cell_type": "code",
      "metadata": {
        "id": "c70cbabe"
      },
      "source": [],
      "id": "c70cbabe",
      "execution_count": null,
      "outputs": []
    },
    {
      "cell_type": "markdown",
      "metadata": {
        "id": "42f8b2f9"
      },
      "source": [
        "#### 28. How to get all the dates corresponding to the month of July 2016? (★★☆)\n",
        "Hint : modify the code below\n",
        "```python\n",
        "Z = np.arange('start', 'end', dtype='datetime64[D]')\n",
        "```"
      ],
      "id": "42f8b2f9"
    },
    {
      "cell_type": "code",
      "source": [],
      "metadata": {
        "id": "3kkl01x3x0NF"
      },
      "id": "3kkl01x3x0NF",
      "execution_count": null,
      "outputs": []
    },
    {
      "cell_type": "markdown",
      "metadata": {
        "id": "252c43e2"
      },
      "source": [
        "#### 29. How to compute ((A+B)*(-A/2)) in place (without copy)? (★★☆)\n",
        "Hint : use `numpy.add`, `numpy.divide`,`numpy.negative`, `numpy.multiply` and parameter `out` of the funtions"
      ],
      "id": "252c43e2"
    },
    {
      "cell_type": "code",
      "source": [],
      "metadata": {
        "id": "pTZ3TAaECwZM"
      },
      "id": "pTZ3TAaECwZM",
      "execution_count": null,
      "outputs": []
    },
    {
      "cell_type": "markdown",
      "metadata": {
        "id": "486df8ea"
      },
      "source": [
        "#### 30. Extract the integer part of a random array of positive numbers using 2 different methods (★★☆)\n",
        "Hint : `%`, `//`"
      ],
      "id": "486df8ea"
    },
    {
      "cell_type": "code",
      "metadata": {
        "id": "34b4fa08"
      },
      "source": [],
      "id": "34b4fa08",
      "execution_count": null,
      "outputs": []
    },
    {
      "cell_type": "markdown",
      "metadata": {
        "id": "649e89f9"
      },
      "source": [
        "#### 31. Create a 5x5 matrix with row values ranging from 0 to 4 (★★☆)"
      ],
      "id": "649e89f9"
    },
    {
      "cell_type": "code",
      "metadata": {
        "id": "663cc611"
      },
      "source": [],
      "id": "663cc611",
      "execution_count": null,
      "outputs": []
    },
    {
      "cell_type": "markdown",
      "metadata": {
        "id": "2d07be1c"
      },
      "source": [
        "#### 32. Create a random vector of size 10 and sort it (★★☆)"
      ],
      "id": "2d07be1c"
    },
    {
      "cell_type": "code",
      "metadata": {
        "id": "4f7cb3ad"
      },
      "source": [],
      "id": "4f7cb3ad",
      "execution_count": null,
      "outputs": []
    },
    {
      "cell_type": "markdown",
      "metadata": {
        "id": "fe043549"
      },
      "source": [
        "#### 33. Consider two random array A and B, check if they are equal (★★☆)\n",
        "```python\n",
        "A = np.random.randint(0,2,5)\n",
        "B = np.random.randint(0,2,5)\n",
        "```\n",
        "Hint : Use `numpy.array_equal()`"
      ],
      "id": "fe043549"
    },
    {
      "cell_type": "code",
      "metadata": {
        "id": "3326a686"
      },
      "source": [],
      "id": "3326a686",
      "execution_count": null,
      "outputs": []
    },
    {
      "cell_type": "markdown",
      "metadata": {
        "id": "2002cb03"
      },
      "source": [
        "#### 34. Consider a random 10x2 matrix representing cartesian coordinates, convert them to polar coordinates (★★☆)\n",
        "Hint 1 : Note that cartesian coodinate **(x, y)** can be represented as  polar coordinates **(distance from origin to (x,y), angle from the x-axis)**\n",
        "\n",
        "Hint 2 : Use `numpy.sqrt` and `numpy.arctan2`"
      ],
      "id": "2002cb03"
    },
    {
      "cell_type": "code",
      "metadata": {
        "id": "58be72bc"
      },
      "source": [],
      "id": "58be72bc",
      "execution_count": null,
      "outputs": []
    },
    {
      "cell_type": "markdown",
      "metadata": {
        "id": "b7109c9f"
      },
      "source": [
        "#### 35. Create random vector Z of size 10 and replace the maximum value by 0 (★★☆)\n",
        "Hint : We can see the index of maximum value using `Z.argmax()`"
      ],
      "id": "b7109c9f"
    },
    {
      "cell_type": "code",
      "metadata": {
        "id": "f79e79a7"
      },
      "source": [],
      "id": "f79e79a7",
      "execution_count": null,
      "outputs": []
    },
    {
      "cell_type": "markdown",
      "metadata": {
        "id": "e6e1ae2f"
      },
      "source": [
        "#### 36. How to find the closest value (to a given scalar v) in a vector Z? (★★☆)\n",
        "```python\n",
        "Z = np.arange(100)\n",
        "v = np.random.uniform(0,100)\n",
        "```\n",
        "Hint : Coumpute the distances between the each elements of Z and the scalar v. After that, we can see the index of minimum value using `argmin()`.  "
      ],
      "id": "e6e1ae2f"
    },
    {
      "cell_type": "code",
      "source": [],
      "metadata": {
        "id": "QkQ2Mii77FrE"
      },
      "id": "QkQ2Mii77FrE",
      "execution_count": null,
      "outputs": []
    },
    {
      "cell_type": "markdown",
      "metadata": {
        "id": "f98713a6"
      },
      "source": [
        "#### 37. What is the equivalent of enumerate for numpy arrays? (★★☆)\n",
        "Hint : Use `numpy.ndenumerate()`or `numpy.ndindex()`\n",
        "\n",
        "Example of the output :\n",
        "```python\n",
        "Z = np.arange(9).reshape(3,3)\n",
        "```\n",
        "```python\n",
        "# output\n",
        "(0, 0) 0\n",
        "(0, 1) 1\n",
        "(0, 2) 2\n",
        "(1, 0) 3\n",
        "(1, 1) 4\n",
        "(1, 2) 5\n",
        "(2, 0) 6\n",
        "(2, 1) 7\n",
        "(2, 2) 8\n",
        "```"
      ],
      "id": "f98713a6"
    },
    {
      "cell_type": "code",
      "metadata": {
        "id": "64795f84"
      },
      "source": [],
      "id": "64795f84",
      "execution_count": null,
      "outputs": []
    },
    {
      "cell_type": "markdown",
      "metadata": {
        "id": "0cf413ee"
      },
      "source": [
        "#### 38. How to randomly place p elements in a 2D array? (★★☆)\n",
        "Hint : modify the code below\n",
        "```python\n",
        "n = 'size of a 2D array'\n",
        "p = 'the number of elements that you want to place'\n",
        "Z = np.zeros((n,n))\n",
        "np.put(Z, np.random.choice(range(n*n), p, replace = False),'value that you want to place')\n",
        "print(Z)\n",
        "```"
      ],
      "id": "0cf413ee"
    },
    {
      "cell_type": "code",
      "metadata": {
        "id": "dfc57e06"
      },
      "source": [],
      "id": "dfc57e06",
      "execution_count": null,
      "outputs": []
    },
    {
      "cell_type": "markdown",
      "metadata": {
        "id": "c0cf37e0"
      },
      "source": [
        "#### 39. How to sort an array below by the nth column? (★★☆)\n",
        "```python\n",
        "Z = np.random.randint(0,10,(3,3))\n",
        "```"
      ],
      "id": "c0cf37e0"
    },
    {
      "cell_type": "code",
      "metadata": {
        "id": "9336ca5f"
      },
      "source": [
        "# column 3"
      ],
      "id": "9336ca5f",
      "execution_count": null,
      "outputs": []
    },
    {
      "cell_type": "code",
      "source": [
        "# column 2\n"
      ],
      "metadata": {
        "id": "0hZzZ6tn2K6V"
      },
      "id": "0hZzZ6tn2K6V",
      "execution_count": null,
      "outputs": []
    },
    {
      "cell_type": "code",
      "source": [
        "# column 3\n"
      ],
      "metadata": {
        "id": "z4zqQXvt2NaB"
      },
      "id": "z4zqQXvt2NaB",
      "execution_count": null,
      "outputs": []
    }
  ]
}