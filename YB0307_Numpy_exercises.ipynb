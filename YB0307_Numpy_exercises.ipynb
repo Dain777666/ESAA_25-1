{
  "nbformat": 4,
  "nbformat_minor": 5,
  "metadata": {
    "colab": {
      "provenance": [],
      "include_colab_link": true
    },
    "language_info": {
      "name": "python"
    },
    "kernelspec": {
      "name": "python3",
      "display_name": "Python 3"
    }
  },
  "cells": [
    {
      "cell_type": "markdown",
      "metadata": {
        "id": "view-in-github",
        "colab_type": "text"
      },
      "source": [
        "<a href=\"https://colab.research.google.com/github/Dain777666/ESAA_25-1/blob/main/YB0307_Numpy_exercises.ipynb\" target=\"_parent\"><img src=\"https://colab.research.google.com/assets/colab-badge.svg\" alt=\"Open In Colab\"/></a>"
      ]
    },
    {
      "cell_type": "markdown",
      "metadata": {
        "id": "78250c14"
      },
      "source": [
        "#### 21. Multiply a 5x3 matrix by a 3x2 matrix (real matrix product) (★☆☆)"
      ],
      "id": "78250c14"
    },
    {
      "cell_type": "code",
      "metadata": {
        "id": "9fe729cb",
        "colab": {
          "base_uri": "https://localhost:8080/"
        },
        "outputId": "8fe09c8f-d8e0-4a5a-b612-333698fbe4aa"
      },
      "source": [
        "import numpy as np\n",
        "\n",
        "A = np.random.random((5,3))\n",
        "B = np.random.random((3,2))\n",
        "\n",
        "print(\"5x3_matrix:\\n\", A)\n",
        "print(\"3x2_matrix:\\n\", B)\n",
        "result = np.dot(A,B)\n",
        "print(result)\n",
        "\n",
        "#real matrix product: 실수 행렬 간의 곱셉"
      ],
      "id": "9fe729cb",
      "execution_count": 2,
      "outputs": [
        {
          "output_type": "stream",
          "name": "stdout",
          "text": [
            "[[0.29344278 0.55423609 0.15863519]\n",
            " [0.20350482 0.48112652 0.06501713]\n",
            " [0.77566579 0.60305058 0.12266291]\n",
            " [0.00386698 0.43138156 0.15468675]\n",
            " [0.68792841 0.8522226  0.20720024]]\n",
            "[[0.15010816 0.35843434]\n",
            " [0.33453812 0.53786739]\n",
            " [0.32901671 0.4721865 ]]\n",
            "[[0.28165488 0.47819088]\n",
            " [0.21289462 0.36242559]\n",
            " [0.35853532 0.66030627]\n",
            " [0.19578857 0.30645313]\n",
            " [0.45653696 0.80279707]]\n"
          ]
        }
      ]
    },
    {
      "cell_type": "markdown",
      "metadata": {
        "id": "51898680"
      },
      "source": [
        "#### 22. Given a 1D array, negate all elements which are between 3 and 8, in place. (★☆☆)"
      ],
      "id": "51898680"
    },
    {
      "cell_type": "code",
      "source": [
        "import numpy as np\n",
        "\n",
        "A = np.arange(11)\n",
        "A[(A > 3) & (A < 8)] *= -1 # 3과 8 사이 (3 < x < 8)인 요소만 음수로 변환\n",
        "print(A)\n",
        "\n",
        "#3과 8 사이에 있는 모든 요소를 음수로 바꾸되, 원래 배열에서 직접 수정하라."
      ],
      "metadata": {
        "colab": {
          "base_uri": "https://localhost:8080/"
        },
        "id": "wc9KlLR1paf1",
        "outputId": "59a5cb69-7a50-4445-dee6-43948498bf65"
      },
      "id": "wc9KlLR1paf1",
      "execution_count": 3,
      "outputs": [
        {
          "output_type": "stream",
          "name": "stdout",
          "text": [
            "[ 0  1  2  3 -4 -5 -6 -7  8  9 10]\n"
          ]
        }
      ]
    },
    {
      "cell_type": "markdown",
      "metadata": {
        "id": "89e78048"
      },
      "source": [
        "#### 23. What is the output of the following script? (★☆☆)\n",
        "```python\n",
        "# Author: Jake VanderPlas\n",
        "\n",
        "print(sum(range(5),-1))\n",
        "from numpy import *\n",
        "print(sum(range(5),-1))\n",
        "```"
      ],
      "id": "89e78048"
    },
    {
      "cell_type": "code",
      "source": [
        "#기본 sum()함수에서 두 번째 인수(start=-1)는 초기값을 의미\n",
        "\n",
        "#NumPy의 sum()함수는 기본 sum()과 다르게 동작함\n",
        "#sum(a, axis) 형식으로 사용됨\n",
        "#range(5)는 [0, 1, 2, 3, 4]를 반환하는 1차원 리스트이므로, sum(range(5), -1)에서 -1은 축(axis) 인자로 해석됨"
      ],
      "metadata": {
        "id": "QCGzb4fvSVTh"
      },
      "id": "QCGzb4fvSVTh",
      "execution_count": null,
      "outputs": []
    },
    {
      "cell_type": "markdown",
      "source": [
        "<축(axis) 개념 이해>\n",
        "\n",
        "NumPy에서는 다차원 배열(ND-array) 을 다룰 때 축(axis)을 사용해 연산 방향을 지정해.\n",
        "\n",
        "1차원 배열 (벡터) → 축(axis) 개념이 거의 없음.\n",
        "\n",
        "\n",
        "2차원 배열 (행렬) → 행과 열이 있음.\n",
        "\n",
        "axis=0 → 세로 방향(행 기준) 합산 (열 단위로 합)\n",
        "axis=1 → 가로 방향(열 기준) 합산 (행 단위로 합)\n",
        "3차원 이상 → 마지막 축(axis=-1)을 따라 합산"
      ],
      "metadata": {
        "id": "XDEs9MZmUBTp"
      },
      "id": "XDEs9MZmUBTp"
    },
    {
      "cell_type": "markdown",
      "source": [
        "9 ( -1+0+1+2+3+4)\n",
        "10 (0+1+2+3+4)"
      ],
      "metadata": {
        "id": "0DkrFvO0lvsh"
      },
      "id": "0DkrFvO0lvsh"
    },
    {
      "cell_type": "markdown",
      "metadata": {
        "id": "ebd10810"
      },
      "source": [
        "#### 24. Consider an integer vector Z, which of these expressions are legal? (★☆☆)\n",
        "```python\n",
        "Z**Z\n",
        "2 << Z >> 2\n",
        "Z <- Z\n",
        "1j*Z\n",
        "Z/1/1\n",
        "Z<Z>Z\n",
        "```"
      ],
      "id": "ebd10810"
    },
    {
      "cell_type": "code",
      "source": [
        "#정수 벡터 Z가 주어졌을 때, 다음 표현식(expression) 중 어떤 것이 유효한(합법적인)지 고려하라."
      ],
      "metadata": {
        "id": "uFPlYihkVtvl"
      },
      "id": "uFPlYihkVtvl",
      "execution_count": null,
      "outputs": []
    },
    {
      "cell_type": "code",
      "metadata": {
        "id": "6ada209f",
        "colab": {
          "base_uri": "https://localhost:8080/"
        },
        "outputId": "4a7b153d-eb94-4673-dae7-810b87d59762"
      },
      "source": [
        "Z=np.arange(9).reshape(3,3)\n",
        "#legal\n",
        "print(Z**Z) #유효\n",
        "print(2 << Z >> 2) #유효\n",
        "print(Z <- Z) #Z < -Z 로 해석됨\n",
        "print(1j*Z) #1j * Z는 정수 벡터 Z의 모든 요소를 허수로 변환\n",
        "print(Z/1/1) #Z를 1로 나눈 후 다시 1로 나누는 것 #나눗셈을 하면 실수 배열로 변환\n",
        "# Z<Z>Z -> X illegal   < 마지막 것이 올바르지 않은 표현이다!\n",
        "#Z < Z 결과가 False 배열이므로 False > Z 같은 비교는 성립하지 않아 오류가 발생함"
      ],
      "id": "6ada209f",
      "execution_count": 4,
      "outputs": [
        {
          "output_type": "stream",
          "name": "stdout",
          "text": [
            "[[       1        1        4]\n",
            " [      27      256     3125]\n",
            " [   46656   823543 16777216]]\n",
            "[[  0   1   2]\n",
            " [  4   8  16]\n",
            " [ 32  64 128]]\n",
            "[[False False False]\n",
            " [False False False]\n",
            " [False False False]]\n",
            "[[0.+0.j 0.+1.j 0.+2.j]\n",
            " [0.+3.j 0.+4.j 0.+5.j]\n",
            " [0.+6.j 0.+7.j 0.+8.j]]\n",
            "[[0. 1. 2.]\n",
            " [3. 4. 5.]\n",
            " [6. 7. 8.]]\n"
          ]
        }
      ]
    },
    {
      "cell_type": "markdown",
      "metadata": {
        "id": "c0e940f8"
      },
      "source": [
        "#### 25. What are the result of the following expressions? (★☆☆)\n",
        "```python\n",
        "np.array(0) / np.array(0)\n",
        "np.array(0) // np.array(0)\n",
        "np.array([np.nan]).astype(int).astype(float)\n",
        "```"
      ],
      "id": "c0e940f8"
    },
    {
      "cell_type": "code",
      "metadata": {
        "id": "820dc7a5",
        "colab": {
          "base_uri": "https://localhost:8080/"
        },
        "outputId": "98012e5a-ddf3-4a0a-c3ad-4fb080be0921"
      },
      "source": [
        "print(np.array(0) / np.array(0))   # 결과 : nan\n",
        "print(np.array(0) // np.array(0))   # 결과 : 0에 가까운 수\n",
        "print(np.array([np.nan]).astype(int).astype(float))"
      ],
      "id": "820dc7a5",
      "execution_count": 5,
      "outputs": [
        {
          "output_type": "stream",
          "name": "stdout",
          "text": [
            "nan\n",
            "0\n",
            "[-9.22337204e+18]\n"
          ]
        },
        {
          "output_type": "stream",
          "name": "stderr",
          "text": [
            "<ipython-input-5-683be1b67b85>:1: RuntimeWarning: invalid value encountered in divide\n",
            "  print(np.array(0) / np.array(0))   # 결과 : nan\n",
            "<ipython-input-5-683be1b67b85>:2: RuntimeWarning: divide by zero encountered in floor_divide\n",
            "  print(np.array(0) // np.array(0))   # 결과 : 0에 가까운 수\n",
            "<ipython-input-5-683be1b67b85>:3: RuntimeWarning: invalid value encountered in cast\n",
            "  print(np.array([np.nan]).astype(int).astype(float))\n"
          ]
        }
      ]
    },
    {
      "cell_type": "markdown",
      "metadata": {
        "id": "f1ae2c2d"
      },
      "source": [
        "#### 26. How to find common values between two arrays? (★☆☆)\n",
        "```python\n",
        "Z1 = np.random.randint(0,10,10)\n",
        "Z2 = np.random.randint(0,10,10)\n",
        "```\n",
        "Hint : use `numpy.random.randint(start, end, size)`"
      ],
      "id": "f1ae2c2d"
    },
    {
      "cell_type": "code",
      "source": [
        "Z1 = np.random.randint(0,10,10)\n",
        "Z2 = np.random.randint(0,10,10)\n",
        "print(Z1)\n",
        "print(Z2)\n",
        "print(np.intersect1d(Z1,Z2))\n",
        "#np.intersect1d()는 두 배열의 공통 요소(교집합)를 반환하는 NumPy 함수"
      ],
      "metadata": {
        "colab": {
          "base_uri": "https://localhost:8080/"
        },
        "id": "cyBTKMnhtMAm",
        "outputId": "8ffd7f13-afb1-4b39-a79c-8958c9f0c553"
      },
      "id": "cyBTKMnhtMAm",
      "execution_count": 7,
      "outputs": [
        {
          "output_type": "stream",
          "name": "stdout",
          "text": [
            "[1 8 0 9 5 4 0 6 3 9]\n",
            "[0 7 2 7 7 6 6 0 5 9]\n",
            "[0 5 6 9]\n"
          ]
        }
      ]
    },
    {
      "cell_type": "markdown",
      "metadata": {
        "id": "37bc0973"
      },
      "source": [
        "#### 27. Is the following expressions true? (★☆☆)\n",
        "```python\n",
        "np.sqrt(-1) == np.emath.sqrt(-1)\n",
        "```"
      ],
      "id": "37bc0973"
    },
    {
      "cell_type": "code",
      "source": [
        "#NumPy의 sqrt()는 기본적으로 실수(real number) 연산을 수행\n",
        "#실수 범위에서 음수의 제곱근은 정의되지 않으므로 nan(Not a Number)이 반환됨\n",
        "\n",
        "#NumPy의 emath.sqrt()는 항상 복소수(complex number) 연산을 수행\n",
        "#emath.sqrt(-1)는 복소수 연산이 가능하므로 1j를 반환"
      ],
      "metadata": {
        "id": "aEFTXH29Z5vj"
      },
      "id": "aEFTXH29Z5vj",
      "execution_count": null,
      "outputs": []
    },
    {
      "cell_type": "code",
      "metadata": {
        "id": "c70cbabe",
        "colab": {
          "base_uri": "https://localhost:8080/"
        },
        "outputId": "595cb6d9-988a-44a4-dceb-c85152f08eba"
      },
      "source": [
        "np.sqrt(-1) == np.emath.sqrt(-1)"
      ],
      "id": "c70cbabe",
      "execution_count": null,
      "outputs": [
        {
          "output_type": "stream",
          "name": "stderr",
          "text": [
            "<ipython-input-67-16339fbc685e>:1: RuntimeWarning: invalid value encountered in sqrt\n",
            "  np.sqrt(-1) == np.emath.sqrt(-1)\n"
          ]
        },
        {
          "output_type": "execute_result",
          "data": {
            "text/plain": [
              "False"
            ]
          },
          "metadata": {},
          "execution_count": 67
        }
      ]
    },
    {
      "cell_type": "markdown",
      "metadata": {
        "id": "42f8b2f9"
      },
      "source": [
        "#### 28. How to get all the dates corresponding to the month of July 2016? (★★☆)\n",
        "Hint : modify the code below\n",
        "```python\n",
        "Z = np.arange('start', 'end', dtype='datetime64[D]')\n",
        "```"
      ],
      "id": "42f8b2f9"
    },
    {
      "cell_type": "code",
      "source": [
        "Z = np.arange('2016-07-01', '2016-08-01', dtype='datetime64[D]')\n",
        "print(Z)"
      ],
      "metadata": {
        "id": "3kkl01x3x0NF",
        "colab": {
          "base_uri": "https://localhost:8080/"
        },
        "outputId": "baf4dd16-a2f7-4e0e-95b2-45929c876f83"
      },
      "id": "3kkl01x3x0NF",
      "execution_count": null,
      "outputs": [
        {
          "output_type": "stream",
          "name": "stdout",
          "text": [
            "['2016-07-01' '2016-07-02' '2016-07-03' '2016-07-04' '2016-07-05'\n",
            " '2016-07-06' '2016-07-07' '2016-07-08' '2016-07-09' '2016-07-10'\n",
            " '2016-07-11' '2016-07-12' '2016-07-13' '2016-07-14' '2016-07-15'\n",
            " '2016-07-16' '2016-07-17' '2016-07-18' '2016-07-19' '2016-07-20'\n",
            " '2016-07-21' '2016-07-22' '2016-07-23' '2016-07-24' '2016-07-25'\n",
            " '2016-07-26' '2016-07-27' '2016-07-28' '2016-07-29' '2016-07-30'\n",
            " '2016-07-31']\n"
          ]
        }
      ]
    },
    {
      "cell_type": "markdown",
      "metadata": {
        "id": "252c43e2"
      },
      "source": [
        "#### 29. How to compute ((A+B)*(-A/2)) in place (without copy)? (★★☆)\n",
        "Hint : use `numpy.add`, `numpy.divide`,`numpy.negative`, `numpy.multiply` and parameter `out` of the funtions"
      ],
      "id": "252c43e2"
    },
    {
      "cell_type": "code",
      "metadata": {
        "id": "f06ff615",
        "colab": {
          "base_uri": "https://localhost:8080/"
        },
        "outputId": "bdb5b82a-f83e-440b-b3f1-0ef6514024e6"
      },
      "source": [
        "A = np.ones(3)*1\n",
        "B = np.ones(3)*2\n",
        "np.add(A,B,out=B) #out=B 옵션이 있으므로 결과를 B에 저장\n",
        "np.divide(A,2,out=A) #A를 2로 나눈 값\n",
        "np.negative(A,out=A) #A의 부호를 반전\n",
        "np.multiply(A,B,out=A)"
      ],
      "id": "f06ff615",
      "execution_count": 8,
      "outputs": [
        {
          "output_type": "execute_result",
          "data": {
            "text/plain": [
              "array([-1.5, -1.5, -1.5])"
            ]
          },
          "metadata": {},
          "execution_count": 8
        }
      ]
    },
    {
      "cell_type": "markdown",
      "metadata": {
        "id": "486df8ea"
      },
      "source": [
        "#### 30. Extract the integer part of a random array of positive numbers using 2 different methods (★★☆)\n",
        "Hint : `%`, `//`"
      ],
      "id": "486df8ea"
    },
    {
      "cell_type": "code",
      "metadata": {
        "id": "34b4fa08",
        "colab": {
          "base_uri": "https://localhost:8080/"
        },
        "outputId": "82bf11e5-e950-48f2-a674-f77bf925c8cd"
      },
      "source": [
        "Z = np.random.uniform(0,10,10) #0과 10 사이에서 균등하게 분포된(uniform) 실수 10개 생성\n",
        "\n",
        "print(Z - Z%1)\n",
        "#각 원소에서 1로 나눈 나머지(소수점 이하 부분) 를 구함\n",
        "#Z - Z % 1 → 소수 부분을 제거하여 정수 부분만 남김\n",
        "print(Z // 1)\n",
        "#Z // 1 → Z를 1로 나눈 후 소수 부분을 버리고 정수 부분만 반환"
      ],
      "id": "34b4fa08",
      "execution_count": 10,
      "outputs": [
        {
          "output_type": "stream",
          "name": "stdout",
          "text": [
            "[9. 4. 8. 8. 6. 6. 7. 2. 2. 5.]\n",
            "[9. 4. 8. 8. 6. 6. 7. 2. 2. 5.]\n"
          ]
        }
      ]
    },
    {
      "cell_type": "markdown",
      "metadata": {
        "id": "649e89f9"
      },
      "source": [
        "#### 31. Create a 5x5 matrix with row values ranging from 0 to 4 (★★☆)"
      ],
      "id": "649e89f9"
    },
    {
      "cell_type": "code",
      "metadata": {
        "id": "663cc611",
        "colab": {
          "base_uri": "https://localhost:8080/"
        },
        "outputId": "cf56c291-95f3-4f72-bc67-3d1e44bb4b5a"
      },
      "source": [
        "A=np.random.randint(0,5,25).reshape((5,5))\n",
        "print(A)"
      ],
      "id": "663cc611",
      "execution_count": 11,
      "outputs": [
        {
          "output_type": "stream",
          "name": "stdout",
          "text": [
            "[[2 3 3 4 4]\n",
            " [4 3 0 2 0]\n",
            " [4 4 1 1 3]\n",
            " [3 1 2 3 3]\n",
            " [3 3 3 1 1]]\n"
          ]
        }
      ]
    },
    {
      "cell_type": "markdown",
      "metadata": {
        "id": "2d07be1c"
      },
      "source": [
        "#### 32. Create a random vector of size 10 and sort it (★★☆)"
      ],
      "id": "2d07be1c"
    },
    {
      "cell_type": "code",
      "metadata": {
        "id": "4f7cb3ad",
        "colab": {
          "base_uri": "https://localhost:8080/"
        },
        "outputId": "5cca8bc6-e988-4b39-e97f-3cc4e1de0a7e"
      },
      "source": [
        "A=np.random.random(10)\n",
        "print(A)\n",
        "print(np.sort(A))"
      ],
      "id": "4f7cb3ad",
      "execution_count": 13,
      "outputs": [
        {
          "output_type": "stream",
          "name": "stdout",
          "text": [
            "[0.57807987 0.35819921 0.51714203 0.01457331 0.0172896  0.84860378\n",
            " 0.21757117 0.86402827 0.9624281  0.04731656]\n",
            "[0.01457331 0.0172896  0.04731656 0.21757117 0.35819921 0.51714203\n",
            " 0.57807987 0.84860378 0.86402827 0.9624281 ]\n"
          ]
        }
      ]
    },
    {
      "cell_type": "markdown",
      "metadata": {
        "id": "fe043549"
      },
      "source": [
        "#### 33. Consider two random array A and B, check if they are equal (★★☆)\n",
        "```python\n",
        "A = np.random.randint(0,2,5)\n",
        "B = np.random.randint(0,2,5)\n",
        "```\n",
        "Hint : Use `numpy.array_equal()`"
      ],
      "id": "fe043549"
    },
    {
      "cell_type": "code",
      "metadata": {
        "id": "3326a686",
        "colab": {
          "base_uri": "https://localhost:8080/"
        },
        "outputId": "99d0cfa3-12f3-403f-c5cd-2b9e057702e5"
      },
      "source": [
        "A = np.random.randint(0,2,5)\n",
        "B = np.random.randint(0,2,5)\n",
        "\n",
        "print(np.array_equal(A,B))"
      ],
      "id": "3326a686",
      "execution_count": null,
      "outputs": [
        {
          "output_type": "stream",
          "name": "stdout",
          "text": [
            "False\n"
          ]
        }
      ]
    },
    {
      "cell_type": "markdown",
      "metadata": {
        "id": "2002cb03"
      },
      "source": [
        "#### 34. Consider a random 10x2 matrix representing cartesian coordinates, convert them to polar coordinates (★★☆)\n",
        "Hint 1 : Note that cartesian coodinate **(x, y)** can be represented as  polar coordinates **(distance from origin to (x,y), angle from the x-axis)**\n",
        "\n",
        "Hint 2 : Use `numpy.sqrt` and `numpy.arctan2`"
      ],
      "id": "2002cb03"
    },
    {
      "cell_type": "code",
      "metadata": {
        "id": "58be72bc",
        "colab": {
          "base_uri": "https://localhost:8080/"
        },
        "outputId": "bc1c2eb7-c20c-4f6a-c173-6a9124eb0436"
      },
      "source": [
        "Z = np.random.random((10,2))\n",
        "X,Y = Z[:,0], Z[:,1]\n",
        "R = np.sqrt(X**2+Y**2)\n",
        "T = np.arctan2(Y,X)\n",
        "print(R)\n",
        "print(T)"
      ],
      "id": "58be72bc",
      "execution_count": 15,
      "outputs": [
        {
          "output_type": "stream",
          "name": "stdout",
          "text": [
            "[0.65080533 0.70753276 0.25376493 0.81807132 0.90869827 0.19886674\n",
            " 0.81493884 0.90613569 0.52932579 0.87914418]\n",
            "[1.19133882 1.35410301 1.07634294 1.19339793 1.50952112 0.88385651\n",
            " 0.68379264 0.87034327 1.15058868 1.10018615]\n"
          ]
        }
      ]
    },
    {
      "cell_type": "code",
      "source": [
        "#주어진 코드에서 10x2 크기의 랜덤 행렬을 생성한 후, 이를 직교 좌표계(Cartesian Coordinates)에서 극 좌표계(Polar Coordinates)로 변환\n",
        "#직교 좌표계: (x, y) → x축과 y축으로 위치를 나타냄\n",
        "#극 좌표계: (r, θ) → 원점(0,0)에서의 거리 r 과 x축과 이루는 각도 θ 로 나타냄\n"
      ],
      "metadata": {
        "id": "HyljNca7fGAB"
      },
      "id": "HyljNca7fGAB",
      "execution_count": null,
      "outputs": []
    },
    {
      "cell_type": "markdown",
      "metadata": {
        "id": "b7109c9f"
      },
      "source": [
        "#### 35. Create random vector Z of size 10 and replace the maximum value by 0 (★★☆)\n",
        "Hint : We can see the index of maximum value using `Z.argmax()`"
      ],
      "id": "b7109c9f"
    },
    {
      "cell_type": "code",
      "metadata": {
        "id": "f79e79a7",
        "colab": {
          "base_uri": "https://localhost:8080/"
        },
        "outputId": "76652618-03e5-4892-8662-06b68a93a03c"
      },
      "source": [
        "Z=np.random.randint(0,10,10)\n",
        "Z[Z.argmax()]=0\n",
        "print(Z)"
      ],
      "id": "f79e79a7",
      "execution_count": 16,
      "outputs": [
        {
          "output_type": "stream",
          "name": "stdout",
          "text": [
            "[3 4 4 0 1 5 2 7 0 3]\n"
          ]
        }
      ]
    },
    {
      "cell_type": "markdown",
      "metadata": {
        "id": "e6e1ae2f"
      },
      "source": [
        "#### 36. How to find the closest value (to a given scalar v) in a vector Z? (★★☆)\n",
        "```python\n",
        "Z = np.arange(100)\n",
        "v = np.random.uniform(0,100)\n",
        "```\n",
        "Hint : Coumpute the distances between the each elements of Z and the scalar v. After that, we can see the index of minimum value using `argmin()`.  "
      ],
      "id": "e6e1ae2f"
    },
    {
      "cell_type": "code",
      "source": [
        "Z = np.arange(100)\n",
        "v = np.random.uniform(0,100)\n",
        "index = (np.abs(Z-v)).argmin()     #Z-v의 절댓값의 array의 가장 작은 값의 index return\n",
        "print(Z[index])\n"
      ],
      "metadata": {
        "id": "QkQ2Mii77FrE",
        "colab": {
          "base_uri": "https://localhost:8080/"
        },
        "outputId": "e1ad0529-c678-4da7-bebe-3a7061a2ae4d"
      },
      "id": "QkQ2Mii77FrE",
      "execution_count": 17,
      "outputs": [
        {
          "output_type": "stream",
          "name": "stdout",
          "text": [
            "18\n"
          ]
        }
      ]
    },
    {
      "cell_type": "markdown",
      "metadata": {
        "id": "f98713a6"
      },
      "source": [
        "#### 37. What is the equivalent of enumerate for numpy arrays? (★★☆)\n",
        "Hint : Use `numpy.ndenumerate()`or `numpy.ndindex()`\n",
        "\n",
        "Example of the output :\n",
        "```python\n",
        "Z = np.arange(9).reshape(3,3)\n",
        "```\n",
        "```python\n",
        "# output\n",
        "(0, 0) 0\n",
        "(0, 1) 1\n",
        "(0, 2) 2\n",
        "(1, 0) 3\n",
        "(1, 1) 4\n",
        "(1, 2) 5\n",
        "(2, 0) 6\n",
        "(2, 1) 7\n",
        "(2, 2) 8\n",
        "```"
      ],
      "id": "f98713a6"
    },
    {
      "cell_type": "code",
      "metadata": {
        "id": "64795f84",
        "colab": {
          "base_uri": "https://localhost:8080/"
        },
        "outputId": "e0bd4d1e-c11e-4e31-9ad3-2b4b60c4c613"
      },
      "source": [
        "Z = np.arange(9).reshape(3,3)\n",
        "# 방법1\n",
        "for index, value in np.ndenumerate(Z): #np.ndenumerate(): 인덱스와 값을 함께 가져올 때 사용\n",
        "    print(index, value)\n",
        "# 방법2\n",
        "for index in np.ndindex(Z.shape): #인덱스만 반환 (값은 따로 접근)\n",
        "    print(index, Z[index])"
      ],
      "id": "64795f84",
      "execution_count": 18,
      "outputs": [
        {
          "output_type": "stream",
          "name": "stdout",
          "text": [
            "(0, 0) 0\n",
            "(0, 1) 1\n",
            "(0, 2) 2\n",
            "(1, 0) 3\n",
            "(1, 1) 4\n",
            "(1, 2) 5\n",
            "(2, 0) 6\n",
            "(2, 1) 7\n",
            "(2, 2) 8\n",
            "(0, 0) 0\n",
            "(0, 1) 1\n",
            "(0, 2) 2\n",
            "(1, 0) 3\n",
            "(1, 1) 4\n",
            "(1, 2) 5\n",
            "(2, 0) 6\n",
            "(2, 1) 7\n",
            "(2, 2) 8\n"
          ]
        }
      ]
    },
    {
      "cell_type": "markdown",
      "metadata": {
        "id": "0cf413ee"
      },
      "source": [
        "#### 38. How to randomly place p elements in a 2D array? (★★☆)\n",
        "Hint : modify the code below\n",
        "```python\n",
        "n = 'size of a 2D array'\n",
        "p = 'the number of elements that you want to place'\n",
        "Z = np.zeros((n,n))\n",
        "np.put(Z, np.random.choice(range(n*n), p, replace = False),'value that you want to place')\n",
        "print(Z)\n",
        "```"
      ],
      "id": "0cf413ee"
    },
    {
      "cell_type": "code",
      "source": [
        "#2D 배열에서 무작위로 p개의 요소를 배치하는 방법"
      ],
      "metadata": {
        "id": "Uh6zCUMuinaE"
      },
      "id": "Uh6zCUMuinaE",
      "execution_count": null,
      "outputs": []
    },
    {
      "cell_type": "code",
      "metadata": {
        "id": "dfc57e06",
        "colab": {
          "base_uri": "https://localhost:8080/"
        },
        "outputId": "858c4779-a290-462e-94c8-22825a7ba0fa"
      },
      "source": [
        "n = 3\n",
        "p = 2\n",
        "Z = np.zeros((n,n))\n",
        "np.put(Z, np.random.choice(range(n*n), p, replace = False),8)\n",
        "# np.random.choice(range(n*n), p, replace=False)\n",
        "# → 0부터 n*n-1까지 중에서 p개의 랜덤한 위치 선택 (중복 없음)\n",
        "# np.put(Z, 선택된 위치, 8) → 해당 위치에 8을 삽입\n",
        "print(Z)"
      ],
      "id": "dfc57e06",
      "execution_count": null,
      "outputs": [
        {
          "output_type": "stream",
          "name": "stdout",
          "text": [
            "[[0. 0. 0.]\n",
            " [0. 0. 8.]\n",
            " [0. 0. 8.]]\n"
          ]
        }
      ]
    },
    {
      "cell_type": "markdown",
      "metadata": {
        "id": "c0cf37e0"
      },
      "source": [
        "#### 39. How to sort an array below by the nth column? (★★☆)\n",
        "```python\n",
        "Z = np.random.randint(0,10,(3,3))\n",
        "```"
      ],
      "id": "c0cf37e0"
    },
    {
      "cell_type": "code",
      "source": [
        "#배열을 특정 열 기준으로 정렬하는 방법"
      ],
      "metadata": {
        "id": "mL1M_uxBjoMb"
      },
      "id": "mL1M_uxBjoMb",
      "execution_count": null,
      "outputs": []
    },
    {
      "cell_type": "code",
      "metadata": {
        "id": "9336ca5f",
        "colab": {
          "base_uri": "https://localhost:8080/"
        },
        "outputId": "2789fd9d-2cdb-406d-c1ac-56be3403eeea"
      },
      "source": [
        "# column 1\n",
        "Z = np.random.randint(0,10,(3,3)) ## 0~9 사이의 정수로 3x3 랜덤 배열 생성\n",
        "\n",
        "print(Z)\n",
        "print(Z[Z[:,0].argsort()]) #첫 번째 열(column 0) 기준 정렬"
      ],
      "id": "9336ca5f",
      "execution_count": 19,
      "outputs": [
        {
          "output_type": "stream",
          "name": "stdout",
          "text": [
            "[[4 3 2]\n",
            " [0 2 9]\n",
            " [1 8 4]]\n",
            "[[0 2 9]\n",
            " [1 8 4]\n",
            " [4 3 2]]\n"
          ]
        }
      ]
    },
    {
      "cell_type": "code",
      "source": [
        "# column 2\n",
        "print(Z)\n",
        "print(Z[Z[:,1].argsort()]) # 두 번째 열(column 1) 기준 정렬"
      ],
      "metadata": {
        "id": "0hZzZ6tn2K6V",
        "colab": {
          "base_uri": "https://localhost:8080/"
        },
        "outputId": "cad2ea85-81c8-45a2-aaa6-eaa70ea3ba72"
      },
      "id": "0hZzZ6tn2K6V",
      "execution_count": 20,
      "outputs": [
        {
          "output_type": "stream",
          "name": "stdout",
          "text": [
            "[[4 3 2]\n",
            " [0 2 9]\n",
            " [1 8 4]]\n",
            "[[0 2 9]\n",
            " [4 3 2]\n",
            " [1 8 4]]\n"
          ]
        }
      ]
    },
    {
      "cell_type": "code",
      "source": [
        "# column 3\n",
        "print(Z)\n",
        "print(Z[Z[:,2].argsort()]) # 세 번째 열(column 2) 기준 정렬"
      ],
      "metadata": {
        "id": "z4zqQXvt2NaB",
        "colab": {
          "base_uri": "https://localhost:8080/"
        },
        "outputId": "c1827304-a9ee-4185-b68f-28e6ea6c71dc"
      },
      "id": "z4zqQXvt2NaB",
      "execution_count": 21,
      "outputs": [
        {
          "output_type": "stream",
          "name": "stdout",
          "text": [
            "[[4 3 2]\n",
            " [0 2 9]\n",
            " [1 8 4]]\n",
            "[[4 3 2]\n",
            " [1 8 4]\n",
            " [0 2 9]]\n"
          ]
        }
      ]
    }
  ]
}